{
 "cells": [
  {
   "cell_type": "markdown",
   "metadata": {},
   "source": [
    "# Timeline\n",
    "\n",
    "Timeline of the big key events during lockdown that are likley to have triggered a change in behaviour of the UK population."
   ]
  },
  {
   "cell_type": "code",
   "execution_count": 15,
   "metadata": {
    "scrolled": true
   },
   "outputs": [
    {
     "data": {
      "text/html": [
       "<iframe src='https://cdn.knightlab.com/libs/timeline3/latest/embed/index.html?source=1SNikyZJIHRTfYaJb7OQI7fqJArvOJmL_6TV-jcwl7Z0&font=Default&lang=en&initial_zoom=2&height=350' width='100%' height='350' webkitallowfullscreen mozallowfullscreen allowfullscreen frameborder='0'></iframe>"
      ],
      "text/plain": [
       "<IPython.core.display.HTML object>"
      ]
     },
     "metadata": {},
     "output_type": "display_data"
    }
   ],
   "source": [
    "from IPython.core.display import display, HTML\n",
    "display(HTML(\"\"\"<iframe src='https://cdn.knightlab.com/libs/timeline3/latest/embed/index.html?source=1SNikyZJIHRTfYaJb7OQI7fqJArvOJmL_6TV-jcwl7Z0&font=Default&lang=en&initial_zoom=2&height=350' width='100%' height='350' webkitallowfullscreen mozallowfullscreen allowfullscreen frameborder='0'></iframe>\"\"\"))"
   ]
  },
  {
   "cell_type": "code",
   "execution_count": null,
   "metadata": {},
   "outputs": [],
   "source": []
  }
 ],
 "metadata": {
  "kernelspec": {
   "display_name": "Python 3",
   "language": "python",
   "name": "python3"
  },
  "language_info": {
   "codemirror_mode": {
    "name": "ipython",
    "version": 3
   },
   "file_extension": ".py",
   "mimetype": "text/x-python",
   "name": "python",
   "nbconvert_exporter": "python",
   "pygments_lexer": "ipython3",
   "version": "3.7.4"
  }
 },
 "nbformat": 4,
 "nbformat_minor": 2
}

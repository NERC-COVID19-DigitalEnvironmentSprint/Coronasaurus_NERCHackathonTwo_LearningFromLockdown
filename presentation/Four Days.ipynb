{
 "cells": [
  {
   "cell_type": "markdown",
   "metadata": {},
   "source": [
    "### Conclusions\n",
    "\n",
    "With our data analyses we have demonstrated that\n",
    "\n",
    "* The lockdown has delivered a measureable impact in CO2 emissions, as indicated *directly* by actual CO2 measurements, and *by proxy* through lower motorised transport load and lower electrical grid use.\n",
    "* Staying at home has not lead to appreciably higher domestic gas or electricity use.\n",
    "* CO2 emissions and transport load are returning to pre-lockdown levels, since the lockdown was eased.\n",
    "\n",
    "While we observe a long-term decreasing trend in both grid use and CO2 emissions, it is unlikely that the Paris Agreement goals will be met, unless some wide-reaching political measures are taken, since emissions are now returning to pre-lockdown levels. \n",
    "\n",
    "As a possible political measure to accomodate multiple different challenges, we propose to direct some research attention towards the viability of introducing *four-day week*, as well as an option for a *2+2* day week (with two days at the office and two days at home) for office workers and other positions that do not require everyday presence at the workplace. \n",
    "\n",
    "<br>\n",
    "<img src=\"2plus2.png\" alt=\"Bar graph\" style=\"width: 300px;\"/>\n",
    "<br>\n",
    "\n",
    "Introducing a four day week could have an impact on the following socio-political and environmental challenges:\n",
    "\n",
    "* The daily traffic load would be reduced, which would in turn reduce CO2 emissions from traffic and increase air quality.\n",
    "* National grid use could be reduced, as office spaces could be shrunk, in turn reducing  CO2 emissions driven by electricity and gas central heating.\n",
    "* There would be decreased load on public transportation, which would facilitate easier enforcing of social distancing measures.\n",
    "* Post-lockdown unemployment would possibly be mitigated, as flexible contracts would entail a more flexible labour market.\n",
    "* Improved mental health for workers. Two small scale experiments (see below) have shown mental health improvements as a result of introducing a four-day week. While the societal data that we analysed suggest that mental health has generally been worse than normal during the lockdown, we hypothesise that this effect is mainly driven by \"Coronavirus Anxiety\", rather than working arrangements. \n",
    "\n",
    "While there is little data on the practical consequence of introducing a 4-day week, since it admittetly is a major adjustment involving considerable economic risk, \n",
    "some prelimiary data from the trust company [Perpetual Guardian in New Zealand](https://money.cnn.com/2018/07/19/news/economy/new-zealand-four-day-work-week-perpetual-guardian) \n",
    "and the software company [Microsoft in Japan](https://www.businessinsider.com/microsoft-4-day-work-week-boosts-productivity-2019-11) have shown promising results, with improved productivity, reduced stress and reduced power use.\n"
   ]
  },
  {
   "cell_type": "code",
   "execution_count": null,
   "metadata": {},
   "outputs": [],
   "source": []
  }
 ],
 "metadata": {
  "kernelspec": {
   "display_name": "Python 3",
   "language": "python",
   "name": "python3"
  },
  "language_info": {
   "codemirror_mode": {
    "name": "ipython",
    "version": 3
   },
   "file_extension": ".py",
   "mimetype": "text/x-python",
   "name": "python",
   "nbconvert_exporter": "python",
   "pygments_lexer": "ipython3",
   "version": "3.6.9"
  }
 },
 "nbformat": 4,
 "nbformat_minor": 4
}

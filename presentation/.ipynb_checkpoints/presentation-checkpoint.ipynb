{
 "cells": [
  {
   "cell_type": "markdown",
   "metadata": {
    "slideshow": {
     "slide_type": "skip"
    }
   },
   "source": [
    "> ## Notes\n",
    ">\n",
    "> There's nothing special about this notebook except the cell metadata shows how it should be interpreted as a slideshow. You'll see that the metadata shows that this cell will be skipped at rendering.\n",
    ">\n",
    "> In a Jupyter Notebook you should enable the slideshow toolbar at `View -> Cell Toolbar -> Slideshow`, or in Jupyter Lab you can open the Notebook Tools on the left hand toolbar.\n",
    ">\n",
    "> * Citations can be made using `[<sup>[1]</sup>](https://example.com)`.\n",
    "> * The direction arrows I'm using are ⮜, ⮝, ⮞, ⮟ which you can copy and paste or find [here](https://en.wikipedia.org/wiki/Miscellaneous_Symbols_and_Arrows#Block).\n",
    "> * You need to run cells to generate the output before you export the slideshow.\n",
    ">\n",
    "> You can export it as a slideshow using `File -> Export Notebook As... -> Reveal.js Slides` then double click it to view it in your browser, but then you will get all the default options. When we decide on a theme we'll want to export it at the command line like this instead:\n",
    ">\n",
    "> `jupyter nbconvert presentation.ipynb --to slides --SlidesExporter.reveal_theme=serif`\n",
    ">\n",
    "> If we want plots to be interactive, or code to be hidden, we might need to meddle with nbconvert or do a bit of post processing on the generated html file. I've demonstrated that this is possible by doing it manually for this one, but we need a better option in the long term."
   ]
  },
  {
   "cell_type": "markdown",
   "metadata": {
    "slideshow": {
     "slide_type": "slide"
    }
   },
   "source": [
    "# NERC COVID-19 Digital Sprint Hackathon Two: Response ⮞\n",
    "## Team Coronasaurus \n",
    "\n",
    "Tasks:\n",
    "- What are the positive and negative aspects of lockdown and recovery measures on meeting Paris and net zero targets?\n",
    "- Using multivariate signals to highlight these impacts and their inter-relationships to inform decision making."
   ]
  },
  {
   "cell_type": "markdown",
   "metadata": {
    "slideshow": {
     "slide_type": "slide"
    }
   },
   "source": [
    "## What are the targets? ⮟"
   ]
  },
  {
   "cell_type": "markdown",
   "metadata": {
    "slideshow": {
     "slide_type": "subslide"
    }
   },
   "source": [
    "### Paris Agreeement ⮟\n",
    "The signatories of the Paris Agreement agree to:\n",
    "- Keep global temperature rise to *well below* 2&deg;C [<sup>[1]</sup>](https://unfccc.int/process-and-meetings/the-paris-agreement/the-paris-agreement).\n",
    "\n",
    "In order to meet this the EU and its member states agree a Nationally Determined Contribution to:\n",
    "- Reduce the EU's CO<sub>2</sub>e emissions to 40% below 1990 levels by 2030 [<sup>[2]</sup>](https://www4.unfccc.int/sites/ndcstaging/PublishedDocuments/United%20Kingdom%20of%20Great%20Britain%20and%20Northern%20Ireland%20First/LV-03-06-EU%20INDC.pdf)."
   ]
  },
  {
   "cell_type": "markdown",
   "metadata": {
    "slideshow": {
     "slide_type": "subslide"
    }
   },
   "source": [
    "### Climate Change Act ⮟\n",
    "The UK has set it's own targets in the form of \"budgets\" that it can emit in a given period [<sup>[3]</sup>](https://web.archive.org/web/20200430013424/https://www.theccc.org.uk/what-is-climate-change/reducing-carbon-emissions/carbon-budgets-and-targets/). These are:\n",
    "\n",
    "Period | Budget (MtCO<sub>2</sub>e)\n",
    ":--- | ---:\n",
    "2008-2012 | 3,018\n",
    "2013-2017 | 2,728\n",
    "2018-2022 | 2,632*\n",
    "2023-2027 | 1,950\n",
    "2028-2032 | 1,725\n",
    "\n",
    "Which, in the form of targets, are approximately:\n",
    "\n",
    "Year | Target (below 1990 levels)\n",
    ":--- | ---:\n",
    "2020 | 37%\n",
    "2025 | 51%\n",
    "2030 | 57%\n",
    "\n",
    "\\* This includes 88 MtCO<sub>2</sub>e carried over as part of the surplus from the previous period's budget [<sup>[4]</sup>](https://www.theccc.org.uk/publication/letter-carry-forward-of-surplus-emissions-lord-deben-to-chris-skidmore-mp/).\n",
    "\n",
    "#### Amendment\n",
    "In June 2019 the act was amended to add a net zero target by 2020 [<sup>[5]</sup>](https://www.legislation.gov.uk/uksi/2019/1056/contents/made)."
   ]
  },
  {
   "cell_type": "markdown",
   "metadata": {
    "slideshow": {
     "slide_type": "subslide"
    }
   },
   "source": [
    "### What about Brexit? ⮞\n",
    "The Brexit transition period ends on 1st January 2021, at which point it'll need to decide its own NDCs. Current suggestions are that this *could* align with the existing goals of 57% but should aim be more ambitious [<sup>[1]</sup>](https://www.theccc.org.uk/publication/net-zero-the-uks-contribution-to-stopping-global-warming/)."
   ]
  },
  {
   "cell_type": "markdown",
   "metadata": {
    "slideshow": {
     "slide_type": "slide"
    }
   },
   "source": [
    "## Visualising the goals\n",
    "Let's go ahead and see how well the UK has done so far. We're looking at historical emissions, some pre-covid projections, and that above pledged targets. Data sourced from Climate Action Tracker [<sup>[1]</sup>](https://climateactiontracker.org/countries/uk/)."
   ]
  },
  {
   "cell_type": "code",
   "execution_count": 138,
   "metadata": {
    "slideshow": {
     "slide_type": "fragment"
    }
   },
   "outputs": [
    {
     "data": {
      "text/html": [
       "<div id=\"5190f20823fff84b\"></div>\n",
       "    <script type=\"text/javascript\">\n",
       "        $(function(){\n",
       "            var p = $(\"#5190f20823fff84b\");\n",
       "            if (p.length==0) return;\n",
       "            while (!p.hasClass(\"cell\")) {\n",
       "                p=p.parent();\n",
       "                if (p.prop(\"tagName\") ==\"body\") return;\n",
       "            }\n",
       "            var cell = p;\n",
       "            cell.find(\".input\").addClass(\"hide-in-slideshow\")\n",
       "        });\n",
       "    </script>"
      ]
     },
     "metadata": {},
     "output_type": "display_data"
    },
    {
     "data": {
      "application/vnd.vegalite.v3+json": {
       "$schema": "https://vega.github.io/schema/vega-lite/v3.4.0.json",
       "config": {
        "mark": {
         "tooltip": null
        },
        "view": {
         "height": 300,
         "width": 400
        }
       },
       "data": {
        "name": "data-8a55336cf604920bfebcbe5164f599c0"
       },
       "datasets": {
        "data-8a55336cf604920bfebcbe5164f599c0": [
         {
          "2020 Pledge": null,
          "2030 Pledge": null,
          "2050 Pledge": null,
          "Current policy projections": null,
          "Historical emissions, excl forestry": 794,
          "Year": 1990
         },
         {
          "2020 Pledge": null,
          "2030 Pledge": null,
          "2050 Pledge": null,
          "Current policy projections": null,
          "Historical emissions, excl forestry": 803,
          "Year": 1991
         },
         {
          "2020 Pledge": null,
          "2030 Pledge": null,
          "2050 Pledge": null,
          "Current policy projections": null,
          "Historical emissions, excl forestry": 782,
          "Year": 1992
         },
         {
          "2020 Pledge": null,
          "2030 Pledge": null,
          "2050 Pledge": null,
          "Current policy projections": null,
          "Historical emissions, excl forestry": 763,
          "Year": 1993
         },
         {
          "2020 Pledge": null,
          "2030 Pledge": null,
          "2050 Pledge": null,
          "Current policy projections": null,
          "Historical emissions, excl forestry": 754,
          "Year": 1994
         },
         {
          "2020 Pledge": null,
          "2030 Pledge": null,
          "2050 Pledge": null,
          "Current policy projections": null,
          "Historical emissions, excl forestry": 747,
          "Year": 1995
         },
         {
          "2020 Pledge": null,
          "2030 Pledge": null,
          "2050 Pledge": null,
          "Current policy projections": null,
          "Historical emissions, excl forestry": 769,
          "Year": 1996
         },
         {
          "2020 Pledge": null,
          "2030 Pledge": null,
          "2050 Pledge": null,
          "Current policy projections": null,
          "Historical emissions, excl forestry": 744,
          "Year": 1997
         },
         {
          "2020 Pledge": null,
          "2030 Pledge": null,
          "2050 Pledge": null,
          "Current policy projections": null,
          "Historical emissions, excl forestry": 742,
          "Year": 1998
         },
         {
          "2020 Pledge": null,
          "2030 Pledge": null,
          "2050 Pledge": null,
          "Current policy projections": null,
          "Historical emissions, excl forestry": 712,
          "Year": 1999
         },
         {
          "2020 Pledge": null,
          "2030 Pledge": null,
          "2050 Pledge": null,
          "Current policy projections": null,
          "Historical emissions, excl forestry": 711,
          "Year": 2000
         },
         {
          "2020 Pledge": null,
          "2030 Pledge": null,
          "2050 Pledge": null,
          "Current policy projections": null,
          "Historical emissions, excl forestry": 715,
          "Year": 2001
         },
         {
          "2020 Pledge": null,
          "2030 Pledge": null,
          "2050 Pledge": null,
          "Current policy projections": null,
          "Historical emissions, excl forestry": 695,
          "Year": 2002
         },
         {
          "2020 Pledge": null,
          "2030 Pledge": null,
          "2050 Pledge": null,
          "Current policy projections": null,
          "Historical emissions, excl forestry": 702,
          "Year": 2003
         },
         {
          "2020 Pledge": null,
          "2030 Pledge": null,
          "2050 Pledge": null,
          "Current policy projections": null,
          "Historical emissions, excl forestry": 699,
          "Year": 2004
         },
         {
          "2020 Pledge": null,
          "2030 Pledge": null,
          "2050 Pledge": null,
          "Current policy projections": null,
          "Historical emissions, excl forestry": 691,
          "Year": 2005
         },
         {
          "2020 Pledge": null,
          "2030 Pledge": null,
          "2050 Pledge": null,
          "Current policy projections": null,
          "Historical emissions, excl forestry": 683,
          "Year": 2006
         },
         {
          "2020 Pledge": null,
          "2030 Pledge": null,
          "2050 Pledge": null,
          "Current policy projections": null,
          "Historical emissions, excl forestry": 672,
          "Year": 2007
         },
         {
          "2020 Pledge": null,
          "2030 Pledge": null,
          "2050 Pledge": null,
          "Current policy projections": null,
          "Historical emissions, excl forestry": 651,
          "Year": 2008
         },
         {
          "2020 Pledge": null,
          "2030 Pledge": null,
          "2050 Pledge": null,
          "Current policy projections": null,
          "Historical emissions, excl forestry": 595,
          "Year": 2009
         },
         {
          "2020 Pledge": null,
          "2030 Pledge": null,
          "2050 Pledge": null,
          "Current policy projections": null,
          "Historical emissions, excl forestry": 610,
          "Year": 2010
         },
         {
          "2020 Pledge": null,
          "2030 Pledge": null,
          "2050 Pledge": null,
          "Current policy projections": null,
          "Historical emissions, excl forestry": 563,
          "Year": 2011
         },
         {
          "2020 Pledge": null,
          "2030 Pledge": null,
          "2050 Pledge": null,
          "Current policy projections": null,
          "Historical emissions, excl forestry": 579,
          "Year": 2012
         },
         {
          "2020 Pledge": null,
          "2030 Pledge": null,
          "2050 Pledge": null,
          "Current policy projections": null,
          "Historical emissions, excl forestry": 566,
          "Year": 2013
         },
         {
          "2020 Pledge": null,
          "2030 Pledge": null,
          "2050 Pledge": null,
          "Current policy projections": null,
          "Historical emissions, excl forestry": 525,
          "Year": 2014
         },
         {
          "2020 Pledge": null,
          "2030 Pledge": null,
          "2050 Pledge": null,
          "Current policy projections": null,
          "Historical emissions, excl forestry": 508,
          "Year": 2015
         },
         {
          "2020 Pledge": null,
          "2030 Pledge": null,
          "2050 Pledge": null,
          "Current policy projections": null,
          "Historical emissions, excl forestry": 483,
          "Year": 2016
         },
         {
          "2020 Pledge": null,
          "2030 Pledge": null,
          "2050 Pledge": null,
          "Current policy projections": null,
          "Historical emissions, excl forestry": 470,
          "Year": 2017
         },
         {
          "2020 Pledge": null,
          "2030 Pledge": null,
          "2050 Pledge": null,
          "Current policy projections": 460,
          "Historical emissions, excl forestry": 460,
          "Year": 2018
         },
         {
          "2020 Pledge": null,
          "2030 Pledge": null,
          "2050 Pledge": null,
          "Current policy projections": 440,
          "Historical emissions, excl forestry": null,
          "Year": 2019
         },
         {
          "2020 Pledge": 542,
          "2030 Pledge": null,
          "2050 Pledge": null,
          "Current policy projections": 430,
          "Historical emissions, excl forestry": null,
          "Year": 2020
         },
         {
          "2020 Pledge": null,
          "2030 Pledge": null,
          "2050 Pledge": null,
          "Current policy projections": 417,
          "Historical emissions, excl forestry": null,
          "Year": 2021
         },
         {
          "2020 Pledge": null,
          "2030 Pledge": null,
          "2050 Pledge": null,
          "Current policy projections": 411,
          "Historical emissions, excl forestry": null,
          "Year": 2022
         },
         {
          "2020 Pledge": null,
          "2030 Pledge": null,
          "2050 Pledge": null,
          "Current policy projections": 408,
          "Historical emissions, excl forestry": null,
          "Year": 2023
         },
         {
          "2020 Pledge": null,
          "2030 Pledge": null,
          "2050 Pledge": null,
          "Current policy projections": 403,
          "Historical emissions, excl forestry": null,
          "Year": 2024
         },
         {
          "2020 Pledge": null,
          "2030 Pledge": null,
          "2050 Pledge": null,
          "Current policy projections": 399,
          "Historical emissions, excl forestry": null,
          "Year": 2025
         },
         {
          "2020 Pledge": null,
          "2030 Pledge": null,
          "2050 Pledge": null,
          "Current policy projections": 396,
          "Historical emissions, excl forestry": null,
          "Year": 2026
         },
         {
          "2020 Pledge": null,
          "2030 Pledge": null,
          "2050 Pledge": null,
          "Current policy projections": 398,
          "Historical emissions, excl forestry": null,
          "Year": 2027
         },
         {
          "2020 Pledge": null,
          "2030 Pledge": null,
          "2050 Pledge": null,
          "Current policy projections": 396,
          "Historical emissions, excl forestry": null,
          "Year": 2028
         },
         {
          "2020 Pledge": null,
          "2030 Pledge": null,
          "2050 Pledge": null,
          "Current policy projections": 393,
          "Historical emissions, excl forestry": null,
          "Year": 2029
         },
         {
          "2020 Pledge": null,
          "2030 Pledge": 356,
          "2050 Pledge": null,
          "Current policy projections": 389,
          "Historical emissions, excl forestry": null,
          "Year": 2030
         },
         {
          "2020 Pledge": null,
          "2030 Pledge": null,
          "2050 Pledge": null,
          "Current policy projections": 386,
          "Historical emissions, excl forestry": null,
          "Year": 2031
         },
         {
          "2020 Pledge": null,
          "2030 Pledge": null,
          "2050 Pledge": null,
          "Current policy projections": 383,
          "Historical emissions, excl forestry": null,
          "Year": 2032
         },
         {
          "2020 Pledge": null,
          "2030 Pledge": null,
          "2050 Pledge": null,
          "Current policy projections": 382,
          "Historical emissions, excl forestry": null,
          "Year": 2033
         },
         {
          "2020 Pledge": null,
          "2030 Pledge": null,
          "2050 Pledge": null,
          "Current policy projections": 380,
          "Historical emissions, excl forestry": null,
          "Year": 2034
         },
         {
          "2020 Pledge": null,
          "2030 Pledge": null,
          "2050 Pledge": null,
          "Current policy projections": 378,
          "Historical emissions, excl forestry": null,
          "Year": 2035
         },
         {
          "2020 Pledge": null,
          "2030 Pledge": null,
          "2050 Pledge": null,
          "Current policy projections": null,
          "Historical emissions, excl forestry": null,
          "Year": 2036
         },
         {
          "2020 Pledge": null,
          "2030 Pledge": null,
          "2050 Pledge": null,
          "Current policy projections": null,
          "Historical emissions, excl forestry": null,
          "Year": 2037
         },
         {
          "2020 Pledge": null,
          "2030 Pledge": null,
          "2050 Pledge": null,
          "Current policy projections": null,
          "Historical emissions, excl forestry": null,
          "Year": 2038
         },
         {
          "2020 Pledge": null,
          "2030 Pledge": null,
          "2050 Pledge": null,
          "Current policy projections": null,
          "Historical emissions, excl forestry": null,
          "Year": 2039
         },
         {
          "2020 Pledge": null,
          "2030 Pledge": null,
          "2050 Pledge": null,
          "Current policy projections": null,
          "Historical emissions, excl forestry": null,
          "Year": 2040
         },
         {
          "2020 Pledge": null,
          "2030 Pledge": null,
          "2050 Pledge": null,
          "Current policy projections": null,
          "Historical emissions, excl forestry": null,
          "Year": 2041
         },
         {
          "2020 Pledge": null,
          "2030 Pledge": null,
          "2050 Pledge": null,
          "Current policy projections": null,
          "Historical emissions, excl forestry": null,
          "Year": 2042
         },
         {
          "2020 Pledge": null,
          "2030 Pledge": null,
          "2050 Pledge": null,
          "Current policy projections": null,
          "Historical emissions, excl forestry": null,
          "Year": 2043
         },
         {
          "2020 Pledge": null,
          "2030 Pledge": null,
          "2050 Pledge": null,
          "Current policy projections": null,
          "Historical emissions, excl forestry": null,
          "Year": 2044
         },
         {
          "2020 Pledge": null,
          "2030 Pledge": null,
          "2050 Pledge": null,
          "Current policy projections": null,
          "Historical emissions, excl forestry": null,
          "Year": 2045
         },
         {
          "2020 Pledge": null,
          "2030 Pledge": null,
          "2050 Pledge": null,
          "Current policy projections": null,
          "Historical emissions, excl forestry": null,
          "Year": 2046
         },
         {
          "2020 Pledge": null,
          "2030 Pledge": null,
          "2050 Pledge": null,
          "Current policy projections": null,
          "Historical emissions, excl forestry": null,
          "Year": 2047
         },
         {
          "2020 Pledge": null,
          "2030 Pledge": null,
          "2050 Pledge": null,
          "Current policy projections": null,
          "Historical emissions, excl forestry": null,
          "Year": 2048
         },
         {
          "2020 Pledge": null,
          "2030 Pledge": null,
          "2050 Pledge": null,
          "Current policy projections": null,
          "Historical emissions, excl forestry": null,
          "Year": 2049
         },
         {
          "2020 Pledge": null,
          "2030 Pledge": null,
          "2050 Pledge": 0,
          "Current policy projections": null,
          "Historical emissions, excl forestry": null,
          "Year": 2050
         }
        ]
       },
       "layer": [
        {
         "encoding": {
          "color": {
           "field": "Legend",
           "type": "nominal"
          },
          "x": {
           "field": "Year",
           "scale": {
            "zero": false
           },
           "type": "quantitative"
          },
          "y": {
           "field": "y",
           "title": "Emissions MTCO₂e/year",
           "type": "quantitative"
          }
         },
         "mark": {
          "point": true,
          "type": "line"
         },
         "selection": {
          "selector063": {
           "bind": "scales",
           "encodings": [
            "x",
            "y"
           ],
           "type": "interval"
          }
         },
         "transform": [
          {
           "as": [
            "Legend",
            "y"
           ],
           "fold": [
            "Current policy projections",
            "Historical emissions, excl forestry"
           ]
          }
         ]
        },
        {
         "encoding": {
          "color": {
           "field": "Legend",
           "type": "nominal"
          },
          "x": {
           "field": "Year",
           "scale": {
            "zero": false
           },
           "type": "quantitative"
          },
          "y": {
           "field": "y",
           "type": "quantitative"
          }
         },
         "mark": "point",
         "transform": [
          {
           "as": [
            "Legend",
            "y"
           ],
           "fold": [
            "Current policy projections",
            "Historical emissions, excl forestry"
           ]
          },
          {
           "as": [
            "Legend",
            "y"
           ],
           "fold": [
            "2020 Pledge",
            "2030 Pledge",
            "2050 Pledge"
           ]
          }
         ]
        }
       ]
      },
      "image/png": "[encoded data removed]",
      "text/plain": [
       "<VegaLite 3 object>\n",
       "\n",
       "If you see this message, it means the renderer has not been properly enabled\n",
       "for the frontend that you are using. For more information, see\n",
       "https://altair-viz.github.io/user_guide/troubleshooting.html\n"
      ]
     },
     "execution_count": 138,
     "metadata": {},
     "output_type": "execute_result"
    }
   ],
   "source": [
    "import altair as alt\n",
    "import pandas as pd\n",
    "\n",
    "emissions = pd.read_csv('./emissions.csv')\n",
    "\n",
    "lines = alt.Chart(emissions).mark_line(point=True).transform_fold(\n",
    "    fold=['Current policy projections', 'Historical emissions, excl forestry'],\n",
    "    as_=['Legend', 'y'] \n",
    ").encode(\n",
    "    alt.X('Year', type='quantitative', scale=alt.Scale(zero=False)),\n",
    "    alt.Y('y:Q', title='Emissions MTCO₂e/year', type='quantitative'),\n",
    "    alt.Color('Legend:N')\n",
    ")\n",
    "\n",
    "points = lines.mark_point().transform_fold(\n",
    "    fold=['2020 Pledge', '2030 Pledge', '2050 Pledge'],\n",
    "    as_=['Legend', 'y']\n",
    ").encode(\n",
    "    alt.X('Year', type='quantitative', scale=alt.Scale(zero=False)),\n",
    "    alt.Y('y:Q'),\n",
    "    alt.Color('Legend:N')\n",
    ")\n",
    "\n",
    "alt.layer(lines, points).interactive()"
   ]
  },
  {
   "cell_type": "code",
   "execution_count": null,
   "metadata": {},
   "outputs": [],
   "source": []
  }
 ],
 "metadata": {
  "kernelspec": {
   "display_name": "Python 3",
   "language": "python",
   "name": "python3"
  },
  "language_info": {
   "codemirror_mode": {
    "name": "ipython",
    "version": 3
   },
   "file_extension": ".py",
   "mimetype": "text/x-python",
   "name": "python",
   "nbconvert_exporter": "python",
   "pygments_lexer": "ipython3",
   "version": "3.7.5"
  }
 },
 "nbformat": 4,
 "nbformat_minor": 4
}

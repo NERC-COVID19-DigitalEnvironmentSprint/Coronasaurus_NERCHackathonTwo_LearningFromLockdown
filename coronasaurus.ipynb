{
 "cells": [
  {
   "cell_type": "markdown",
   "metadata": {},
   "source": [
    "# coronasaurus\n",
    "This repository is coronasaurus's entry to NERC's [COVID-19 Hackathon 2: Recovery](https://digitalenvironment.org/home/covid-19-digital-sprint-hackathons/covid-19-hackathon-2-recovery/).\n",
    "\n",
    "## Introduction\n",
    "The unprecedented global response to the COVID-19 pandemic has resulted in huge population behavioural changes; from the cessation of travel to a transition to remote working. We don't often see changes of this magnitude, which offers researchers the unique opportunity to evaluate the impact of lockdown measures.\n",
    "\n",
    "One particular area of interest is the impact on greenhouse gas emissions. As a signatory of the Paris Agreement the UK has a responsibility to limit the global average temperature rise to below 2&deg;C, but this is an ambitious task! Can we use data from this event to evaluate the sort of changes that might need to be made to meet these climate goals?"
   ]
  },
  {
   "cell_type": "code",
   "execution_count": 31,
   "metadata": {
    "jupyter": {
     "source_hidden": true
    }
   },
   "outputs": [
    {
     "data": {
      "text/markdown": [
       "### Notebook"
      ],
      "text/plain": [
       "<IPython.core.display.Markdown object>"
      ]
     },
     "metadata": {},
     "output_type": "display_data"
    },
    {
     "data": {
      "text/markdown": [
       "You're currently viewing this notebook locally. You could also run it online in an interactive binder by clicking below:\\\n",
       "           [![Binder](https://mybinder.org/badge_logo.svg)](https://mybinder.org/v2/gh/aricooperdavis/coronasaurus_NERCHackathonTwo_Multivariate/master?urlpath=%2Ftree%2Fpresentation%2Fpresentation.ipynb)"
      ],
      "text/plain": [
       "<IPython.core.display.Markdown object>"
      ]
     },
     "metadata": {},
     "output_type": "display_data"
    }
   ],
   "source": [
    "from notebook import notebookapp\n",
    "from IPython.display import display, Markdown\n",
    "\n",
    "display(Markdown(\"### Notebook\"))\n",
    "\n",
    "servers = list(notebookapp.list_running_servers())\n",
    "if servers[0]['hostname'] == 'localhost':\n",
    "    \n",
    "    display(Markdown(\n",
    "        \"\"\"You're currently viewing this notebook locally. You could also run it online in an interactive binder by clicking below:\\\\\n",
    "           [![Binder](https://mybinder.org/badge_logo.svg)](https://mybinder.org/v2/gh/aricooperdavis/coronasaurus_NERCHackathonTwo_Multivariate/master?urlpath=%2Ftree%2Fpresentation%2Fpresentation.ipynb)\"\"\"))\n",
    "else:\n",
    "    print(\"\"\"You're currently viewing this notebook remotely.\n",
    "             You can also [download this notebook](https://github.com/aricooperdavis/coronasaurus_NERCHackathonTwo_Multivariate/blob/master/coronasaurus.ipynb) and run it locally in Jupyter.\"\"\")"
   ]
  },
  {
   "cell_type": "code",
   "execution_count": null,
   "metadata": {},
   "outputs": [],
   "source": []
  }
 ],
 "metadata": {
  "kernelspec": {
   "display_name": "Python 3",
   "language": "python",
   "name": "python3"
  },
  "language_info": {
   "codemirror_mode": {
    "name": "ipython",
    "version": 3
   },
   "file_extension": ".py",
   "mimetype": "text/x-python",
   "name": "python",
   "nbconvert_exporter": "python",
   "pygments_lexer": "ipython3",
   "version": "3.8.3"
  }
 },
 "nbformat": 4,
 "nbformat_minor": 4
}

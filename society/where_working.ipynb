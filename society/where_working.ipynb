{
 "cells": [
  {
   "cell_type": "code",
   "execution_count": null,
   "metadata": {},
   "outputs": [],
   "source": [
    "import warnings\n",
    "warnings.simplefilter('ignore', FutureWarning)\n",
    "\n",
    "from pandas import *\n",
    "\n",
    "headings = ['UK Employment Status', 'Pre Lockdown (m) March 2020', 'Post Lockdown (m) Early April 2020']\n",
    "table = [\n",
    "  ['Total Population', 67.9, 67.9],  \n",
    "  ['Total Possible Workforce', 41.4, 41.4],\n",
    "  ['Employed', 31.6, 30.7],  \n",
    "  ['Unemployed', 1.3, 2.2],\n",
    "  ['Furloughed (still employed)', 0, 9.1],\n",
    "  ['Home Based worker (employed or not)', 2.8, 11.3], \n",
    "  ['Students (at school/uni)', 14.7, 1.2], \n",
    "  ['People at home', 33.8, 47.5],  \n",
    "  ['Work Based worker', 30.1, 19.2],\n",
    "  ]\n",
    "employment = DataFrame(columns=headings, data=table)\n",
    "employment"
   ]
  }
 ],
 "metadata": {
  "kernelspec": {
   "display_name": "Python 3",
   "language": "python",
   "name": "python3"
  },
  "language_info": {
   "codemirror_mode": {
    "name": "ipython",
    "version": 3
   },
   "file_extension": ".py",
   "mimetype": "text/x-python",
   "name": "python",
   "nbconvert_exporter": "python",
   "pygments_lexer": "ipython3",
   "version": "3.7.4"
  }
 },
 "nbformat": 4,
 "nbformat_minor": 2
}
